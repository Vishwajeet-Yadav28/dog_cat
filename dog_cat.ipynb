{
 "cells": [
  {
   "cell_type": "raw",
   "id": "dd4a5910",
   "metadata": {},
   "source": [
    "refer -  Deep Learning Tutorial 23,24 codebasics"
   ]
  },
  {
   "cell_type": "markdown",
   "id": "6f222b75",
   "metadata": {},
   "source": [
    "# Dogs, Cats"
   ]
  },
  {
   "cell_type": "code",
   "execution_count": 1,
   "id": "71a1c983",
   "metadata": {},
   "outputs": [],
   "source": [
    "import tensorflow as tf\n",
    "from keras.preprocessing.image import ImageDataGenerator"
   ]
  },
  {
   "cell_type": "code",
   "execution_count": 2,
   "id": "cdc679f5",
   "metadata": {
    "scrolled": true
   },
   "outputs": [
    {
     "name": "stdout",
     "output_type": "stream",
     "text": [
      "Found 557 images belonging to 2 classes.\n"
     ]
    }
   ],
   "source": [
    "train_datagen=ImageDataGenerator(rescale=1./255,shear_range=0.2,zoom_range=0.2,horizontal_flip=True)\n",
    "training_set = train_datagen.flow_from_directory(\"C:/Users/VISHWAJEET YADAV/Documents/IT Vedant/AWP/archive/train\",\n",
    "                                                 target_size=(64,64),batch_size=32,class_mode='binary')"
   ]
  },
  {
   "cell_type": "raw",
   "id": "d021b703",
   "metadata": {},
   "source": [
    "rescale - It will divide the image matrix values (ranging from 0 to 255) by 255.\n",
    "shear_range - It will cut 20% pixels are from all sides of image.\n",
    "horizontal_flip - It will flip the images horizontally.\n",
    "zoom_range - It will make image bigger.\n",
    "\n",
    "target_size=(64,64) - Input images will be changed to 64x64 pixels. It is used to import the image with different pixels. We can even import (128,128) image. It will give us clearer and bigger images. \n",
    "batch_size - Used to create batches of images for memory optimization. There are 32 images per batch in this case.\n",
    "class_mode='binary' - For binary classification. Cat/dog classification is binary. Use category for multiple classifications."
   ]
  },
  {
   "cell_type": "code",
   "execution_count": 3,
   "id": "63bc26d1",
   "metadata": {},
   "outputs": [
    {
     "name": "stdout",
     "output_type": "stream",
     "text": [
      "Found 140 images belonging to 2 classes.\n"
     ]
    }
   ],
   "source": [
    "test_datagen = ImageDataGenerator(rescale=1./255,shear_range=0.2,zoom_range=0.2,horizontal_flip=True)\n",
    "test_set=test_datagen.flow_from_directory(\"C:/Users/VISHWAJEET YADAV/Documents/IT Vedant/AWP/archive/test\",target_size=(64,64),batch_size=32,class_mode='binary')"
   ]
  },
  {
   "cell_type": "markdown",
   "id": "5a1235ee",
   "metadata": {},
   "source": [
    "First Layer"
   ]
  },
  {
   "cell_type": "code",
   "execution_count": 4,
   "id": "b9445d9d",
   "metadata": {},
   "outputs": [],
   "source": [
    "cnn=tf.keras.models.Sequential()\n",
    "cnn.add(tf.keras.layers.Conv2D(filters=32,kernel_size=3,activation='relu',\n",
    "                               input_shape=[64,64,3]))"
   ]
  },
  {
   "cell_type": "raw",
   "id": "23bd8d50",
   "metadata": {},
   "source": [
    "filters=32 - \n",
    "kernel_size - \n",
    "input_shape=[64,64,3] -  3 is used for RGB colors."
   ]
  },
  {
   "cell_type": "code",
   "execution_count": 5,
   "id": "846e3f49",
   "metadata": {},
   "outputs": [],
   "source": [
    "cnn.add(tf.keras.layers.MaxPool2D(pool_size=2,strides=2))"
   ]
  },
  {
   "cell_type": "raw",
   "id": "262bec74",
   "metadata": {},
   "source": [
    "pool_size=2 - It means the size of matrix from which we consider the maximum value. In this case it will be 2x2 matrix.\n",
    "strides=2 - It means we shift our matrix by 2 columns."
   ]
  },
  {
   "cell_type": "markdown",
   "id": "50bb1229",
   "metadata": {},
   "source": [
    "Second Layer"
   ]
  },
  {
   "cell_type": "code",
   "execution_count": 6,
   "id": "f464c3ec",
   "metadata": {},
   "outputs": [],
   "source": [
    "cnn.add(tf.keras.layers.Conv2D(filters=32,kernel_size=3,activation='relu',\n",
    "                               input_shape=[64,64,3]))"
   ]
  },
  {
   "cell_type": "code",
   "execution_count": 7,
   "id": "d3e592d5",
   "metadata": {},
   "outputs": [],
   "source": [
    "cnn.add(tf.keras.layers.MaxPool2D(pool_size=2,strides=2))"
   ]
  },
  {
   "cell_type": "markdown",
   "id": "53da86b0",
   "metadata": {},
   "source": [
    "Flattening"
   ]
  },
  {
   "cell_type": "code",
   "execution_count": 8,
   "id": "db11df1c",
   "metadata": {},
   "outputs": [],
   "source": [
    "cnn.add(tf.keras.layers.Flatten())"
   ]
  },
  {
   "cell_type": "markdown",
   "id": "af3b0278",
   "metadata": {},
   "source": [
    "Full Connection"
   ]
  },
  {
   "cell_type": "code",
   "execution_count": 10,
   "id": "0449a555",
   "metadata": {},
   "outputs": [],
   "source": [
    "cnn.add(tf.keras.layers.Dense(units=128,activation='relu'))"
   ]
  },
  {
   "cell_type": "markdown",
   "id": "f798d10b",
   "metadata": {},
   "source": [
    "Output Layer"
   ]
  },
  {
   "cell_type": "code",
   "execution_count": 11,
   "id": "9569ec3d",
   "metadata": {},
   "outputs": [
    {
     "name": "stdout",
     "output_type": "stream",
     "text": [
      "Model: \"sequential\"\n",
      "_________________________________________________________________\n",
      " Layer (type)                Output Shape              Param #   \n",
      "=================================================================\n",
      " conv2d (Conv2D)             (None, 62, 62, 32)        896       \n",
      "                                                                 \n",
      " max_pooling2d (MaxPooling2D  (None, 31, 31, 32)       0         \n",
      " )                                                               \n",
      "                                                                 \n",
      " conv2d_1 (Conv2D)           (None, 29, 29, 32)        9248      \n",
      "                                                                 \n",
      " max_pooling2d_1 (MaxPooling  (None, 14, 14, 32)       0         \n",
      " 2D)                                                             \n",
      "                                                                 \n",
      " flatten (Flatten)           (None, 6272)              0         \n",
      "                                                                 \n",
      " dense (Dense)               (None, 128)               802944    \n",
      "                                                                 \n",
      " dense_1 (Dense)             (None, 1)                 129       \n",
      "                                                                 \n",
      "=================================================================\n",
      "Total params: 813,217\n",
      "Trainable params: 813,217\n",
      "Non-trainable params: 0\n",
      "_________________________________________________________________\n"
     ]
    }
   ],
   "source": [
    "cnn.add(tf.keras.layers.Dense(units=1,activation='sigmoid'))\n",
    "cnn.summary()"
   ]
  },
  {
   "cell_type": "markdown",
   "id": "2cc4bc7e",
   "metadata": {},
   "source": [
    "training the CNN"
   ]
  },
  {
   "cell_type": "code",
   "execution_count": 12,
   "id": "04e16e2e",
   "metadata": {},
   "outputs": [],
   "source": [
    "cnn.compile(optimizer='adam',loss='binary_crossentropy',metrics=['accuracy'])"
   ]
  },
  {
   "cell_type": "code",
   "execution_count": null,
   "id": "00457430",
   "metadata": {},
   "outputs": [],
   "source": []
  },
  {
   "cell_type": "code",
   "execution_count": 14,
   "id": "cbc8a962",
   "metadata": {},
   "outputs": [
    {
     "name": "stdout",
     "output_type": "stream",
     "text": [
      "Epoch 1/25\n",
      "18/18 [==============================] - 7s 379ms/step - loss: 0.7136 - accuracy: 0.5135 - val_loss: 0.6926 - val_accuracy: 0.5214\n",
      "Epoch 2/25\n",
      "18/18 [==============================] - 7s 393ms/step - loss: 0.6887 - accuracy: 0.5494 - val_loss: 0.7115 - val_accuracy: 0.5071\n",
      "Epoch 3/25\n",
      "18/18 [==============================] - 7s 355ms/step - loss: 0.6941 - accuracy: 0.5494 - val_loss: 0.6902 - val_accuracy: 0.5643\n",
      "Epoch 4/25\n",
      "18/18 [==============================] - 6s 343ms/step - loss: 0.6734 - accuracy: 0.6391 - val_loss: 0.6915 - val_accuracy: 0.5571\n",
      "Epoch 5/25\n",
      "18/18 [==============================] - 6s 354ms/step - loss: 0.6490 - accuracy: 0.6409 - val_loss: 0.6808 - val_accuracy: 0.5929\n",
      "Epoch 6/25\n",
      "18/18 [==============================] - 6s 350ms/step - loss: 0.5997 - accuracy: 0.6732 - val_loss: 0.6903 - val_accuracy: 0.6143\n",
      "Epoch 7/25\n",
      "18/18 [==============================] - 6s 347ms/step - loss: 0.5931 - accuracy: 0.6661 - val_loss: 0.6548 - val_accuracy: 0.6786\n",
      "Epoch 8/25\n",
      "18/18 [==============================] - 6s 352ms/step - loss: 0.5784 - accuracy: 0.6948 - val_loss: 0.7159 - val_accuracy: 0.5571\n",
      "Epoch 9/25\n",
      "18/18 [==============================] - 6s 356ms/step - loss: 0.6130 - accuracy: 0.6553 - val_loss: 0.6979 - val_accuracy: 0.5214\n",
      "Epoch 10/25\n",
      "18/18 [==============================] - 6s 341ms/step - loss: 0.5792 - accuracy: 0.6715 - val_loss: 0.6968 - val_accuracy: 0.6143\n",
      "Epoch 11/25\n",
      "18/18 [==============================] - 6s 352ms/step - loss: 0.5408 - accuracy: 0.7289 - val_loss: 0.6944 - val_accuracy: 0.6143\n",
      "Epoch 12/25\n",
      "18/18 [==============================] - 6s 349ms/step - loss: 0.5498 - accuracy: 0.7271 - val_loss: 0.7094 - val_accuracy: 0.6000\n",
      "Epoch 13/25\n",
      "18/18 [==============================] - 6s 337ms/step - loss: 0.5380 - accuracy: 0.7271 - val_loss: 0.7272 - val_accuracy: 0.6143\n",
      "Epoch 14/25\n",
      "18/18 [==============================] - 6s 350ms/step - loss: 0.5261 - accuracy: 0.7092 - val_loss: 0.6675 - val_accuracy: 0.7000\n",
      "Epoch 15/25\n",
      "18/18 [==============================] - 6s 357ms/step - loss: 0.4907 - accuracy: 0.7487 - val_loss: 0.7052 - val_accuracy: 0.5929\n",
      "Epoch 16/25\n",
      "18/18 [==============================] - 6s 356ms/step - loss: 0.4673 - accuracy: 0.7666 - val_loss: 0.6782 - val_accuracy: 0.6714\n",
      "Epoch 17/25\n",
      "18/18 [==============================] - 6s 353ms/step - loss: 0.4699 - accuracy: 0.7774 - val_loss: 0.6974 - val_accuracy: 0.6429\n",
      "Epoch 18/25\n",
      "18/18 [==============================] - 6s 352ms/step - loss: 0.4684 - accuracy: 0.7756 - val_loss: 0.6851 - val_accuracy: 0.6643\n",
      "Epoch 19/25\n",
      "18/18 [==============================] - 6s 342ms/step - loss: 0.4407 - accuracy: 0.7810 - val_loss: 0.6833 - val_accuracy: 0.6714\n",
      "Epoch 20/25\n",
      "18/18 [==============================] - 6s 348ms/step - loss: 0.4204 - accuracy: 0.8097 - val_loss: 0.6397 - val_accuracy: 0.7143\n",
      "Epoch 21/25\n",
      "18/18 [==============================] - 6s 349ms/step - loss: 0.4080 - accuracy: 0.8133 - val_loss: 0.6349 - val_accuracy: 0.7000\n",
      "Epoch 22/25\n",
      "18/18 [==============================] - 6s 351ms/step - loss: 0.3908 - accuracy: 0.8366 - val_loss: 0.7378 - val_accuracy: 0.6500\n",
      "Epoch 23/25\n",
      "18/18 [==============================] - 6s 352ms/step - loss: 0.3728 - accuracy: 0.8169 - val_loss: 0.7070 - val_accuracy: 0.6214\n",
      "Epoch 24/25\n",
      "18/18 [==============================] - 6s 350ms/step - loss: 0.4050 - accuracy: 0.7953 - val_loss: 0.6717 - val_accuracy: 0.6786\n",
      "Epoch 25/25\n",
      "18/18 [==============================] - 6s 348ms/step - loss: 0.3397 - accuracy: 0.8689 - val_loss: 0.7882 - val_accuracy: 0.6429\n"
     ]
    },
    {
     "data": {
      "text/plain": [
       "<keras.callbacks.History at 0x298f7c98c10>"
      ]
     },
     "execution_count": 14,
     "metadata": {},
     "output_type": "execute_result"
    }
   ],
   "source": [
    "cnn.fit(x=training_set,validation_data=test_set,epochs=25)"
   ]
  },
  {
   "cell_type": "code",
   "execution_count": 18,
   "id": "d1e992b5",
   "metadata": {},
   "outputs": [
    {
     "data": {
      "image/png": "[encoded data removed]",
      "text/plain": [
       "<PIL.Image.Image image mode=RGB size=64x64>"
      ]
     },
     "execution_count": 18,
     "metadata": {},
     "output_type": "execute_result"
    }
   ],
   "source": [
    "import numpy as np\n",
    "from keras.preprocessing import image\n",
    "test_image = tf.keras.utils.load_img(\"C:/Users/VISHWAJEET YADAV/Documents/IT Vedant/AWP/archive/test/cats/cat_585.jpg\",target_size=(64,64))\n",
    "test_image"
   ]
  },
  {
   "cell_type": "code",
   "execution_count": 20,
   "id": "cbc8e271",
   "metadata": {
    "scrolled": true
   },
   "outputs": [
    {
     "data": {
      "text/plain": [
       "array([[[ 68.,  29.,  22.],\n",
       "        [ 66.,  27.,  20.],\n",
       "        [ 66.,  31.,  27.],\n",
       "        ...,\n",
       "        [ 41.,  22.,   8.],\n",
       "        [ 62.,  12.,  15.],\n",
       "        [ 49.,   9.,  10.]],\n",
       "\n",
       "       [[ 69.,  29.,  21.],\n",
       "        [ 70.,  30.,  22.],\n",
       "        [ 71.,  34.,  28.],\n",
       "        ...,\n",
       "        [106.,   0.,   0.],\n",
       "        [ 98.,   2.,   6.],\n",
       "        [ 45.,  11.,  10.]],\n",
       "\n",
       "       [[ 71.,  28.,  19.],\n",
       "        [ 70.,  27.,  18.],\n",
       "        [ 73.,  34.,  27.],\n",
       "        ...,\n",
       "        [231., 127.,  92.],\n",
       "        [131.,  21.,   4.],\n",
       "        [ 44.,   8.,   8.]],\n",
       "\n",
       "       ...,\n",
       "\n",
       "       [[ 53.,  22.,  20.],\n",
       "        [ 64.,  31.,  16.],\n",
       "        [ 68.,  29.,  12.],\n",
       "        ...,\n",
       "        [ 42.,  24.,  22.],\n",
       "        [ 36.,  18.,  16.],\n",
       "        [ 59.,  38.,  53.]],\n",
       "\n",
       "       [[ 53.,  26.,  15.],\n",
       "        [ 71.,  31.,  21.],\n",
       "        [ 73.,  29.,  20.],\n",
       "        ...,\n",
       "        [ 49.,  22.,  13.],\n",
       "        [ 44.,  17.,   8.],\n",
       "        [ 89.,  79., 103.]],\n",
       "\n",
       "       [[ 54.,  26.,  15.],\n",
       "        [ 71.,  28.,  19.],\n",
       "        [ 70.,  26.,  17.],\n",
       "        ...,\n",
       "        [ 49.,  22.,  13.],\n",
       "        [ 49.,  22.,  13.],\n",
       "        [119., 111., 135.]]], dtype=float32)"
      ]
     },
     "execution_count": 20,
     "metadata": {},
     "output_type": "execute_result"
    }
   ],
   "source": [
    "test_image=tf.keras.utils.img_to_array(test_image)\n",
    "test_image"
   ]
  },
  {
   "cell_type": "code",
   "execution_count": 21,
   "id": "fa7a0b69",
   "metadata": {
    "scrolled": true
   },
   "outputs": [
    {
     "data": {
      "text/plain": [
       "array([[[[ 68.,  29.,  22.],\n",
       "         [ 66.,  27.,  20.],\n",
       "         [ 66.,  31.,  27.],\n",
       "         ...,\n",
       "         [ 41.,  22.,   8.],\n",
       "         [ 62.,  12.,  15.],\n",
       "         [ 49.,   9.,  10.]],\n",
       "\n",
       "        [[ 69.,  29.,  21.],\n",
       "         [ 70.,  30.,  22.],\n",
       "         [ 71.,  34.,  28.],\n",
       "         ...,\n",
       "         [106.,   0.,   0.],\n",
       "         [ 98.,   2.,   6.],\n",
       "         [ 45.,  11.,  10.]],\n",
       "\n",
       "        [[ 71.,  28.,  19.],\n",
       "         [ 70.,  27.,  18.],\n",
       "         [ 73.,  34.,  27.],\n",
       "         ...,\n",
       "         [231., 127.,  92.],\n",
       "         [131.,  21.,   4.],\n",
       "         [ 44.,   8.,   8.]],\n",
       "\n",
       "        ...,\n",
       "\n",
       "        [[ 53.,  22.,  20.],\n",
       "         [ 64.,  31.,  16.],\n",
       "         [ 68.,  29.,  12.],\n",
       "         ...,\n",
       "         [ 42.,  24.,  22.],\n",
       "         [ 36.,  18.,  16.],\n",
       "         [ 59.,  38.,  53.]],\n",
       "\n",
       "        [[ 53.,  26.,  15.],\n",
       "         [ 71.,  31.,  21.],\n",
       "         [ 73.,  29.,  20.],\n",
       "         ...,\n",
       "         [ 49.,  22.,  13.],\n",
       "         [ 44.,  17.,   8.],\n",
       "         [ 89.,  79., 103.]],\n",
       "\n",
       "        [[ 54.,  26.,  15.],\n",
       "         [ 71.,  28.,  19.],\n",
       "         [ 70.,  26.,  17.],\n",
       "         ...,\n",
       "         [ 49.,  22.,  13.],\n",
       "         [ 49.,  22.,  13.],\n",
       "         [119., 111., 135.]]]], dtype=float32)"
      ]
     },
     "execution_count": 21,
     "metadata": {},
     "output_type": "execute_result"
    }
   ],
   "source": [
    "test_image=np.expand_dims(test_image,axis=0)\n",
    "test_image"
   ]
  },
  {
   "cell_type": "code",
   "execution_count": 22,
   "id": "e8224c2a",
   "metadata": {},
   "outputs": [
    {
     "name": "stdout",
     "output_type": "stream",
     "text": [
      "1/1 [==============================] - 2s 2s/step\n"
     ]
    },
    {
     "data": {
      "text/plain": [
       "array([[0.]], dtype=float32)"
      ]
     },
     "execution_count": 22,
     "metadata": {},
     "output_type": "execute_result"
    }
   ],
   "source": [
    "result=cnn.predict(test_image)\n",
    "result"
   ]
  },
  {
   "cell_type": "code",
   "execution_count": 23,
   "id": "d27f8733",
   "metadata": {},
   "outputs": [
    {
     "name": "stdout",
     "output_type": "stream",
     "text": [
      "cat\n"
     ]
    }
   ],
   "source": [
    "if result[0][0] ==1:\n",
    "    prediction='dog'\n",
    "else:\n",
    "    prediction='cat'\n",
    "\n",
    "print(prediction)"
   ]
  },
  {
   "cell_type": "code",
   "execution_count": null,
   "id": "b7ed829e",
   "metadata": {},
   "outputs": [],
   "source": []
  }
 ],
 "metadata": {
  "kernelspec": {
   "display_name": "Python 3 (ipykernel)",
   "language": "python",
   "name": "python3"
  },
  "language_info": {
   "codemirror_mode": {
    "name": "ipython",
    "version": 3
   },
   "file_extension": ".py",
   "mimetype": "text/x-python",
   "name": "python",
   "nbconvert_exporter": "python",
   "pygments_lexer": "ipython3",
   "version": "3.9.13"
  }
 },
 "nbformat": 4,
 "nbformat_minor": 5
}
